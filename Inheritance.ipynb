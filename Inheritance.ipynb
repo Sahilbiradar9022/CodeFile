{
 "cells": [
  {
   "cell_type": "code",
   "execution_count": 24,
   "id": "c451828a-a572-4e68-9152-037774d27ad9",
   "metadata": {},
   "outputs": [
    {
     "name": "stdout",
     "output_type": "stream",
     "text": [
      "The name is harry and id is 81\n",
      "The name is Sahil and id is 80\n",
      "Sahil with id  80 is a python expert\n"
     ]
    }
   ],
   "source": [
    "class Employee:\n",
    "    def __init__(self , name , id):\n",
    "        self.name=name\n",
    "        self.id= id\n",
    "    def info(self):\n",
    "        print(f\"The name is {self.name} and id is {self.id}\")\n",
    "      \n",
    "        \n",
    "class programmer(Employee):\n",
    "    def show(self):\n",
    "        print(f\"{self.name} with id  {self.id} is a python expert\")\n",
    "       \n",
    "        \n",
    "a = programmer(\"Sahil\",80)\n",
    "b = Employee(\"harry\",81)\n",
    "b.info()\n",
    "a.info()\n",
    "a.show()"
   ]
  },
  {
   "cell_type": "code",
   "execution_count": null,
   "id": "47170a3d-1fa8-4ee5-9644-b8fa2e7ec7ae",
   "metadata": {},
   "outputs": [],
   "source": []
  }
 ],
 "metadata": {
  "kernelspec": {
   "display_name": "Python 3 (ipykernel)",
   "language": "python",
   "name": "python3"
  },
  "language_info": {
   "codemirror_mode": {
    "name": "ipython",
    "version": 3
   },
   "file_extension": ".py",
   "mimetype": "text/x-python",
   "name": "python",
   "nbconvert_exporter": "python",
   "pygments_lexer": "ipython3",
   "version": "3.12.7"
  }
 },
 "nbformat": 4,
 "nbformat_minor": 5
}
